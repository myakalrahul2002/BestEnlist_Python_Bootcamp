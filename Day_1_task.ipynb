{
 "cells": [
  {
   "cell_type": "code",
   "execution_count": 8,
   "id": "32453d58",
   "metadata": {},
   "outputs": [
    {
     "name": "stdout",
     "output_type": "stream",
     "text": [
      " ______________________ Basic  of Python _________________________\n",
      "\n",
      "Length of String is :  70\n",
      "string in lower case :\t best enlist is provinding python internship\\bootcamp with free of cost\n",
      "\n",
      "\n",
      "Max Number from above variable is :  74\n",
      "Addition of two number is :  184\n"
     ]
    }
   ],
   "source": [
    "print(''' ______________________ Basic  of Python _________________________\\n''')\n",
    "\n",
    "str=\"BEST ENLIST IS PROVINDING PYTHON INTERNSHIP\\BOOTCAMP WITH FREE OF COST\"\n",
    "print('Length of String is : ',len(str))\n",
    "print('string in lower case :\\t',str.lower())\n",
    "print('\\n')\n",
    "a,b,c,d=24,64,74,22\n",
    "print('Max Number from above variable is : ',max(a,b,c,d))\n",
    "print('Addition of two number is : ',a+b+c+d)"
   ]
  }
 ],
 "metadata": {
  "kernelspec": {
   "display_name": "Python 3",
   "language": "python",
   "name": "python3"
  },
  "language_info": {
   "codemirror_mode": {
    "name": "ipython",
    "version": 3
   },
   "file_extension": ".py",
   "mimetype": "text/x-python",
   "name": "python",
   "nbconvert_exporter": "python",
   "pygments_lexer": "ipython3",
   "version": "3.8.8"
  }
 },
 "nbformat": 4,
 "nbformat_minor": 5
}
