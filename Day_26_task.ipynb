{
  "nbformat": 4,
  "nbformat_minor": 0,
  "metadata": {
    "colab": {
      "name": "Day_26_task.ipynb",
      "provenance": [],
      "collapsed_sections": [],
      "authorship_tag": "ABX9TyOi7H7orZ870FtMXPhUM85F",
      "include_colab_link": true
    },
    "kernelspec": {
      "name": "python3",
      "display_name": "Python 3"
    },
    "language_info": {
      "name": "python"
    }
  },
  "cells": [
    {
      "cell_type": "markdown",
      "metadata": {
        "id": "view-in-github",
        "colab_type": "text"
      },
      "source": [
        "<a href=\"https://colab.research.google.com/github/rahulmyakal/BestEnlist_python_bootcamp/blob/main/Day_26_task.ipynb\" target=\"_parent\"><img src=\"https://colab.research.google.com/assets/colab-badge.svg\" alt=\"Open In Colab\"/></a>"
      ]
    },
    {
      "cell_type": "markdown",
      "metadata": {
        "id": "ZNxY9jkUTjN8"
      },
      "source": [
        "# Q1: Enumerate a python list and try to print the counter with the list value"
      ]
    },
    {
      "cell_type": "code",
      "metadata": {
        "colab": {
          "base_uri": "https://localhost:8080/"
        },
        "id": "GQfXGF9gThyt",
        "outputId": "e5a4678a-0b85-45e4-8676-f7dc9a620017"
      },
      "source": [
        "name = ['rahul','kishor','shreerag','raviraj','sai']\n",
        "for i in enumerate(name,1000):\n",
        "    print(i)"
      ],
      "execution_count": 9,
      "outputs": [
        {
          "output_type": "stream",
          "text": [
            "(1000, 'rahul')\n",
            "(1001, 'kishor')\n",
            "(1002, 'shreerag')\n",
            "(1003, 'raviraj')\n",
            "(1004, 'sai')\n"
          ],
          "name": "stdout"
        }
      ]
    },
    {
      "cell_type": "code",
      "metadata": {
        "colab": {
          "base_uri": "https://localhost:8080/"
        },
        "id": "cT69RoYEUjgJ",
        "outputId": "5c660836-779e-458e-d1ef-7652d07d67cf"
      },
      "source": [
        "for count,i in enumerate(name,1):\n",
        "    x = count,i\n",
        "    print(list(x))"
      ],
      "execution_count": 13,
      "outputs": [
        {
          "output_type": "stream",
          "text": [
            "[1, 'rahul']\n",
            "[2, 'kishor']\n",
            "[3, 'shreerag']\n",
            "[4, 'raviraj']\n",
            "[5, 'sai']\n"
          ],
          "name": "stdout"
        }
      ]
    },
    {
      "cell_type": "markdown",
      "metadata": {
        "id": "1kgoEapkYLYf"
      },
      "source": [
        "#Q2: Enumerate a python tuple and try to print the counter with the tuple value"
      ]
    },
    {
      "cell_type": "code",
      "metadata": {
        "colab": {
          "base_uri": "https://localhost:8080/"
        },
        "id": "J1vyQIrCU0Nk",
        "outputId": "e4e252fa-95bd-4e32-e7be-932ed4b2c90f"
      },
      "source": [
        "name = ('rahul','kishor','shreerag','raviraj','sai')\n",
        "for i in enumerate(name,-5):\n",
        "    print(i)"
      ],
      "execution_count": 21,
      "outputs": [
        {
          "output_type": "stream",
          "text": [
            "(-5, 'rahul')\n",
            "(-4, 'kishor')\n",
            "(-3, 'shreerag')\n",
            "(-2, 'raviraj')\n",
            "(-1, 'sai')\n"
          ],
          "name": "stdout"
        }
      ]
    },
    {
      "cell_type": "code",
      "metadata": {
        "colab": {
          "base_uri": "https://localhost:8080/"
        },
        "id": "fnkupdRIYh3h",
        "outputId": "2d3f558e-f564-44f7-b65e-9fc41b9c06f4"
      },
      "source": [
        "for count,i in enumerate(name,1):\n",
        "    x = count,i\n",
        "    print(x)"
      ],
      "execution_count": 18,
      "outputs": [
        {
          "output_type": "stream",
          "text": [
            "(1, 'rahul')\n",
            "(2, 'kishor')\n",
            "(3, 'shreerag')\n",
            "(4, 'raviraj')\n",
            "(5, 'sai')\n"
          ],
          "name": "stdout"
        }
      ]
    }
  ]
}