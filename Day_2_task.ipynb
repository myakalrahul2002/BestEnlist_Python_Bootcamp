{
 "cells": [
  {
   "cell_type": "code",
   "execution_count": 23,
   "id": "d95939fd",
   "metadata": {},
   "outputs": [
    {
     "name": "stdout",
     "output_type": "stream",
     "text": [
      "function casefold(): don’t trouble trouble until trouble troubles you.\n",
      "function upper(): DON’T TROUBLE TROUBLE UNTIL TROUBLE TROUBLES YOU.\n",
      "function lower(): don’t trouble trouble until trouble troubles you.\n",
      "function capitalize(): Don’t trouble trouble until trouble troubles you.\n",
      "function find(): -1\n",
      "function len():  49\n",
      "function isalpha(): False\n",
      "function isalnum(): False\n",
      "function islower(): False\n",
      "function isupper(): True\n"
     ]
    }
   ],
   "source": [
    "text = \"DON’T TROUBLE TROUBLE UNTIL TROUBLE TROUBLES YOU.\"\n",
    "print(\"function casefold():\",text.casefold())\n",
    "print(\"function upper():\",text.upper())\n",
    "print(\"function lower():\",text.lower())\n",
    "print(\"function capitalize():\",text.capitalize())\n",
    "print(\"function find():\",text.find('days'))\n",
    "print(\"function len(): \",len(text))\n",
    "print(\"function isalpha():\",text.isalpha())\n",
    "print(\"function isalnum():\",text.isalnum())\n",
    "print(\"function islower():\",text.islower())\n",
    "print(\"function isupper():\",text.isupper())\n",
    "\n"
   ]
  }
 ],
 "metadata": {
  "kernelspec": {
   "display_name": "Python 3",
   "language": "python",
   "name": "python3"
  },
  "language_info": {
   "codemirror_mode": {
    "name": "ipython",
    "version": 3
   },
   "file_extension": ".py",
   "mimetype": "text/x-python",
   "name": "python",
   "nbconvert_exporter": "python",
   "pygments_lexer": "ipython3",
   "version": "3.8.8"
  }
 },
 "nbformat": 4,
 "nbformat_minor": 5
}
