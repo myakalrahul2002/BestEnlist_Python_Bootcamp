{
  "nbformat": 4,
  "nbformat_minor": 0,
  "metadata": {
    "colab": {
      "name": "Day_9_task.ipynb",
      "provenance": [],
      "collapsed_sections": [],
      "authorship_tag": "ABX9TyNYlSoG28JB8+OcnIvwVNhN",
      "include_colab_link": true
    },
    "kernelspec": {
      "name": "python3",
      "display_name": "Python 3"
    },
    "language_info": {
      "name": "python"
    }
  },
  "cells": [
    {
      "cell_type": "markdown",
      "metadata": {
        "id": "view-in-github",
        "colab_type": "text"
      },
      "source": [
        "<a href=\"https://colab.research.google.com/github/rahulmyakal/BestEnlist_python_bootcamp/blob/main/Day_9_task.ipynb\" target=\"_parent\"><img src=\"https://colab.research.google.com/assets/colab-badge.svg\" alt=\"Open In Colab\"/></a>"
      ]
    },
    {
      "cell_type": "markdown",
      "metadata": {
        "id": "fHZ48To38cl2"
      },
      "source": [
        "single inheritance"
      ]
    },
    {
      "cell_type": "code",
      "metadata": {
        "colab": {
          "base_uri": "https://localhost:8080/"
        },
        "id": "m4vSobBy6qYA",
        "outputId": "50885d27-b019-4144-c2ca-961944d9c771"
      },
      "source": [
        "class Parent:\n",
        "     def func1(self):\n",
        "          print(\"this is parent class\")\n",
        "class Child(Parent):\n",
        "     def func2(self):\n",
        "          print(\"this child class \")\n",
        "ob = Child()\n",
        "ob.func1()\n",
        "ob.func2()\n"
      ],
      "execution_count": null,
      "outputs": [
        {
          "output_type": "stream",
          "text": [
            "this is parent class\n",
            "this child class \n"
          ],
          "name": "stdout"
        }
      ]
    },
    {
      "cell_type": "markdown",
      "metadata": {
        "id": "he1phGxu89Kc"
      },
      "source": [
        "Multiple Inheritance\n",
        "\n",
        "When a child class inherits from more than one parent class"
      ]
    },
    {
      "cell_type": "code",
      "metadata": {
        "colab": {
          "base_uri": "https://localhost:8080/"
        },
        "id": "obEmZ3cE9Ef2",
        "outputId": "7a04c17f-c827-4261-8bd9-3c9d98ef5257"
      },
      "source": [
        "class Parent:\n",
        "   def func1(self):\n",
        "        print(\"this is example 1\")\n",
        "class Parent2:                                                                #(parent, parent1) \n",
        "   def func2(self):                                                          #         |  \n",
        "        print(\"this is example 2\")                                          #          |                 \n",
        "class Child(Parent , Parent2):                                              #          |\n",
        "    def func3(self):                                                         #         |\n",
        "        print(\"this is example 3\")                                            #       Child\n",
        "ob = Child()\n",
        "ob.func1()\n",
        "ob.func2()\n",
        "ob.func3()\n"
      ],
      "execution_count": null,
      "outputs": [
        {
          "output_type": "stream",
          "text": [
            "this is example 1\n",
            "this is example 2\n",
            "this is example 3\n"
          ],
          "name": "stdout"
        }
      ]
    },
    {
      "cell_type": "markdown",
      "metadata": {
        "id": "PVfj6vzu8l00"
      },
      "source": [
        "Multilevel Inheritance\n",
        "\n",
        "When a child class becomes a parent class for another child class\n"
      ]
    },
    {
      "cell_type": "code",
      "metadata": {
        "colab": {
          "base_uri": "https://localhost:8080/"
        },
        "id": "l1WW-Rxk9jbx",
        "outputId": "f0544aa7-9b9a-47be-9f17-31c09b34fe62"
      },
      "source": [
        "class Parent:\n",
        "      def func1(self):\n",
        "          print(\"this is example 1\")                                                # parent\n",
        "class Child(Parent):                                                                #   |\n",
        "      def func2(self):                                                              #   |\n",
        "          print(\"this is example 2\")                                                # child\n",
        "class Child2(Child):                                                                #   |\n",
        "      def func3(self):                                                              #   |\n",
        "          print(\"this is example 3\")                                                # child2 \n",
        "ob = Child2()\n",
        "ob.func1()\n",
        "ob.func2()\n",
        "ob.func3()\n"
      ],
      "execution_count": null,
      "outputs": [
        {
          "output_type": "stream",
          "text": [
            "this is example 1\n",
            "this is example 2\n",
            "this is example 3\n"
          ],
          "name": "stdout"
        }
      ]
    },
    {
      "cell_type": "markdown",
      "metadata": {
        "id": "QGKxI7p2-A9E"
      },
      "source": [
        "Hierarchical Inheritance\n",
        "\n",
        "Hierarchical inheritance involves multiple inheritance from the same base or parent class."
      ]
    },
    {
      "cell_type": "code",
      "metadata": {
        "colab": {
          "base_uri": "https://localhost:8080/"
        },
        "id": "s7l5hdB3-F3l",
        "outputId": "2e66811f-f8e4-4f2c-f86c-6ded1e722a96"
      },
      "source": [
        "class Parent:\n",
        "      def func1(self):                                                          #Parent  ---- child2\n",
        "          print(\"this is example 1\")                                            #  |\n",
        "class Child(Parent):                                                            #  |\n",
        "      def func2(self):                                                          # child\n",
        "          print(\"this is example 2\")                                            \n",
        "class Child2(Parent):                                                           \n",
        "      def func3(self):                                                          \n",
        "          print(\"this is example 3\")\n",
        "ob = Child()\n",
        "ob1 = Child2()\n",
        "ob.func1()\n",
        "ob.func2()\n",
        "ob1.func3()\n"
      ],
      "execution_count": null,
      "outputs": [
        {
          "output_type": "stream",
          "text": [
            "this is example 1\n",
            "this is example 2\n",
            "this is example 3\n"
          ],
          "name": "stdout"
        }
      ]
    },
    {
      "cell_type": "markdown",
      "metadata": {
        "id": "ERfOGM6SAGZN"
      },
      "source": [
        "Hybrid Inheritance\n",
        "\n",
        "Hybrid inheritance involves multiple inheritance taking place in a single program."
      ]
    },
    {
      "cell_type": "code",
      "metadata": {
        "colab": {
          "base_uri": "https://localhost:8080/"
        },
        "id": "ZfAHMR5kAIsO",
        "outputId": "2ae30154-efbf-4b9d-d345-18e8b58719a6"
      },
      "source": [
        "class Parent:\n",
        "     def func1(self):\n",
        "         print(\"this is function one\")\n",
        " \n",
        "class Child(Parent):\n",
        "     def func2(self):\n",
        "         print(\"this is function 2\")\n",
        " \n",
        "class Child1(Parent):\n",
        "     def func3(self):\n",
        "         print(\" this is function 3\")\n",
        " \n",
        "class Child3(Child1,Child):\n",
        "    def func4(self):\n",
        "         print(\" this is function 4\")\n",
        " \n",
        "ob = Child3()\n",
        "ob.func1()\n",
        "ob.func2()"
      ],
      "execution_count": null,
      "outputs": [
        {
          "output_type": "stream",
          "text": [
            "this is function one\n",
            "this is function 2\n"
          ],
          "name": "stdout"
        }
      ]
    },
    {
      "cell_type": "markdown",
      "metadata": {
        "id": "Sdf-R_5EBehx"
      },
      "source": [
        "Python Super() Function\n",
        "\n",
        "Super function allows us to call a method from the parent class."
      ]
    },
    {
      "cell_type": "code",
      "metadata": {
        "colab": {
          "base_uri": "https://localhost:8080/"
        },
        "id": "-W7ohMFVBm3K",
        "outputId": "bef248b7-2f74-41be-fb2b-8a80650e7ca9"
      },
      "source": [
        "class Parent:\n",
        "     def func1(self):\n",
        "         print(\"this is example 1\")\n",
        "class Child(Parent):\n",
        "     def func2(self):\n",
        "          super().func1()\n",
        "          print(\"this is example 2\")\n",
        " \n",
        "ob = Child()\n",
        "ob.func2()\n"
      ],
      "execution_count": null,
      "outputs": [
        {
          "output_type": "stream",
          "text": [
            "this is example 1\n",
            "this is example 2\n"
          ],
          "name": "stdout"
        }
      ]
    },
    {
      "cell_type": "code",
      "metadata": {
        "colab": {
          "base_uri": "https://localhost:8080/"
        },
        "id": "u56Qr0CCT3pX",
        "outputId": "76f681ae-2589-43c2-e1fd-452bc5d2245c"
      },
      "source": [
        "#method overriding\n",
        "\n",
        "class Parent:\n",
        "    def func1(self):\n",
        "        print(\"this is parent function\")\n",
        " \n",
        "class Child(Parent):\n",
        "    def func1(self):\n",
        "        print(\"this is child function\")\n",
        " \n",
        "ob = Child()\n",
        "ob.func1()\n",
        "ob1=Parent()\n",
        "ob1.func1()\n",
        "\n"
      ],
      "execution_count": null,
      "outputs": [
        {
          "output_type": "stream",
          "text": [
            "this is child function\n",
            "this is parent function\n"
          ],
          "name": "stdout"
        }
      ]
    },
    {
      "cell_type": "markdown",
      "metadata": {
        "id": "WStePj95UeRE"
      },
      "source": [
        "#Create a real time scenario for inheritance example Banking concept, ecommerce concept."
      ]
    },
    {
      "cell_type": "code",
      "metadata": {
        "colab": {
          "base_uri": "https://localhost:8080/"
        },
        "id": "PNFqfXtScvUN",
        "outputId": "b21502b2-0454-4f18-ce2a-e53e034e5b75"
      },
      "source": [
        "class CustomerDetails:                                                                \n",
        "   def __init__(self,name,accno): \n",
        "        self.name = name\n",
        "        self.accno = accno                                              \n",
        "\n",
        "class Transaction(CustomerDetails): \n",
        "    def __init__(self,name,accno):\n",
        "        super().__init__(name,accno)\n",
        "        self.balance=0 \n",
        "    def deposit(self,amount):   \n",
        "        self.amount = amount\n",
        "        self.balance = self.balance+self.amount\n",
        "        print(\"your bank balance has been updated!!\",self.balance)\n",
        "    def withdraw(self,amount):\n",
        "        self.amount = amount\n",
        "        if self.amount > self.balance:\n",
        "            print(\"Insufficient balance\",\"you can withdraw only\",self.balance)\n",
        "        else:\n",
        "            self.balance = self.balance-self.amount\n",
        "            print(\"your bank balance has been updated!!\",self.balance)\n",
        "\n",
        "t=Transaction('rahul',546453)\n",
        "t.deposit(500)\n",
        "t.deposit(600)\n",
        "t.withdraw(1400)\n",
        "\n",
        "\n",
        "    \n",
        "    \n",
        "    \n",
        "    \n",
        "    \n",
        "    \n",
        "   "
      ],
      "execution_count": 54,
      "outputs": [
        {
          "output_type": "stream",
          "text": [
            "your bank balance has been updated!! 500\n",
            "your bank balance has been updated!! 1100\n",
            "Insufficient balance you can withdraw only 1100\n"
          ],
          "name": "stdout"
        }
      ]
    }
  ]
}