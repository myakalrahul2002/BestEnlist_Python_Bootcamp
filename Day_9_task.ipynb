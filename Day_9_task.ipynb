{
  "nbformat": 4,
  "nbformat_minor": 0,
  "metadata": {
    "colab": {
      "name": "Day_9_task.ipynb",
      "provenance": [],
      "collapsed_sections": [],
      "authorship_tag": "ABX9TyObPVLUtF5qAuhjJqrIXwT/",
      "include_colab_link": true
    },
    "kernelspec": {
      "name": "python3",
      "display_name": "Python 3"
    },
    "language_info": {
      "name": "python"
    }
  },
  "cells": [
    {
      "cell_type": "markdown",
      "metadata": {
        "id": "view-in-github",
        "colab_type": "text"
      },
      "source": [
        "<a href=\"https://colab.research.google.com/github/rahulmyakal/BestEnlist_python_bootcamp/blob/main/Day_9_task.ipynb\" target=\"_parent\"><img src=\"https://colab.research.google.com/assets/colab-badge.svg\" alt=\"Open In Colab\"/></a>"
      ]
    },
    {
      "cell_type": "markdown",
      "metadata": {
        "id": "OX18QX3r_6ER"
      },
      "source": [
        "1) Write a program to loop through a list of numbers and add +2 to every value to elements in list"
      ]
    },
    {
      "cell_type": "code",
      "metadata": {
        "colab": {
          "base_uri": "https://localhost:8080/"
        },
        "id": "lrbiQMfT_Yr_",
        "outputId": "f5d4318e-173e-4a03-e5b4-9ee39a32a7fd"
      },
      "source": [
        "list1 = [1,2,3,4,5,6,7,8,9]\n",
        "for i in list1:\n",
        "    i=i+2\n",
        "    print(i)"
      ],
      "execution_count": null,
      "outputs": [
        {
          "output_type": "stream",
          "text": [
            "3\n",
            "4\n",
            "5\n",
            "6\n",
            "7\n",
            "8\n",
            "9\n",
            "10\n",
            "11\n"
          ],
          "name": "stdout"
        }
      ]
    },
    {
      "cell_type": "markdown",
      "metadata": {
        "id": "53YZ-Vs-Am5p"
      },
      "source": [
        "• Write a program to get the below pattern\n",
        "\n",
        "54321\n",
        "\n",
        "4321\n",
        "\n",
        "321\n",
        "\n",
        "21\n",
        "\n",
        "1"
      ]
    },
    {
      "cell_type": "code",
      "metadata": {
        "colab": {
          "base_uri": "https://localhost:8080/"
        },
        "id": "QNUsWI9-BjVo",
        "outputId": "cbde8351-a691-4760-e95e-6c1564b91d53"
      },
      "source": [
        "for i in range(5,1,-1):\n",
        "    for j in range(i,0,-1):\n",
        "        print(j,end=\"\")\n",
        "    print()"
      ],
      "execution_count": null,
      "outputs": [
        {
          "output_type": "stream",
          "text": [
            "54321\n",
            "4321\n",
            "321\n",
            "21\n"
          ],
          "name": "stdout"
        }
      ]
    },
    {
      "cell_type": "code",
      "metadata": {
        "colab": {
          "base_uri": "https://localhost:8080/"
        },
        "id": "eO0wQYuWCmOd",
        "outputId": "6b984a48-1349-4f46-bb1b-7014f8ad0734"
      },
      "source": [
        "for i in range(5): \n",
        "\tprint(''.join(map(str,range(5-i,0,-1)))) "
      ],
      "execution_count": null,
      "outputs": [
        {
          "output_type": "stream",
          "text": [
            "54321\n",
            "4321\n",
            "321\n",
            "21\n",
            "1\n"
          ],
          "name": "stdout"
        }
      ]
    },
    {
      "cell_type": "markdown",
      "metadata": {
        "id": "063CeuC4C3fB"
      },
      "source": [
        "3)  Python Program to Print the Fibonacci sequence"
      ]
    },
    {
      "cell_type": "code",
      "metadata": {
        "colab": {
          "base_uri": "https://localhost:8080/"
        },
        "id": "5-CGmhUMEuPU",
        "outputId": "9d7ec648-23a3-481e-9fc6-88245e49b82c"
      },
      "source": [
        "n=int(input(\"\\n Please enter the range number\"))\n",
        "a=0\n",
        "b=1\n",
        "if n < 0:\n",
        "    print(\"you enter a negative integer\")\n",
        "elif n == 0:\n",
        "    print(f\"fibonacci of 0 is {b}\")\n",
        "else:\n",
        "\n",
        "    for i in range(0,n):\n",
        "        if(i<=1):\n",
        "            c=i\n",
        "        else:\n",
        "            c=a+b\n",
        "            a=b\n",
        "            b=c\n",
        "        print(c)\n"
      ],
      "execution_count": null,
      "outputs": [
        {
          "output_type": "stream",
          "text": [
            "\n",
            " Please enter the range number9\n",
            "0\n",
            "1\n",
            "1\n",
            "2\n",
            "3\n",
            "5\n",
            "8\n",
            "13\n",
            "21\n"
          ],
          "name": "stdout"
        }
      ]
    },
    {
      "cell_type": "markdown",
      "metadata": {
        "id": "8UVNWtsxOpcp"
      },
      "source": [
        "4) Explain Armstrong number and write a code with a function"
      ]
    },
    {
      "cell_type": "code",
      "metadata": {
        "colab": {
          "base_uri": "https://localhost:8080/"
        },
        "id": "CGyy6RocRIch",
        "outputId": "89b1ad26-8a9a-47fd-9469-742fd887df2c"
      },
      "source": [
        "num = int(input(\"enter a a number: \"))4\n",
        "sum=0\n",
        "temp=num\n",
        "while temp>0:\n",
        "    digit=temp%10\n",
        "    sum+=digit**3\n",
        "    temp//=10\n",
        "if num==sum:\n",
        "    print(num,\"is an armstrong number\")\n",
        "else:\n",
        "    print(num,\"is not an armstrong number\")\n",
        "\n",
        "\n"
      ],
      "execution_count": null,
      "outputs": [
        {
          "output_type": "stream",
          "text": [
            "enter a a number: 407\n",
            "407 is an armstrong number\n"
          ],
          "name": "stdout"
        }
      ]
    },
    {
      "cell_type": "markdown",
      "metadata": {
        "id": "hQEfe0T9RaxG"
      },
      "source": [
        "5) Write a program to print the multiplication table of 9"
      ]
    },
    {
      "cell_type": "code",
      "metadata": {
        "colab": {
          "base_uri": "https://localhost:8080/"
        },
        "id": "KaQs5RkfRcJ9",
        "outputId": "8d5b3d6e-ae07-4ab6-9e80-ccd6036967fc"
      },
      "source": [
        "n = int(input(\"enter a number: \"))\n",
        "for i in range(1,11):\n",
        "    print(f\"{n} x {i} = {n*i}\")2"
      ],
      "execution_count": null,
      "outputs": [
        {
          "output_type": "stream",
          "text": [
            "enter a number: 25\n",
            "25 x 1 = 25\n",
            "25 x 2 = 50\n",
            "25 x 3 = 75\n",
            "25 x 4 = 100\n",
            "25 x 5 = 125\n",
            "25 x 6 = 150\n",
            "25 x 7 = 175\n",
            "25 x 8 = 200\n",
            "25 x 9 = 225\n",
            "25 x 10 = 250\n"
          ],
          "name": "stdout"
        }
      ]
    },
    {
      "cell_type": "markdown",
      "metadata": {
        "id": "3EcWcw7XTOVR"
      },
      "source": [
        "6) Check if a program is negative or positive"
      ]
    },
    {
      "cell_type": "code",
      "metadata": {
        "colab": {
          "base_uri": "https://localhost:8080/"
        },
        "id": "W3UutdQVTRDg",
        "outputId": "d89e026a-d323-4840-f723-d61f50cfd1af"
      },
      "source": [
        "n = int(input(\"enter a number: \"))\n",
        "if n < 0:\n",
        "    print(f\" {n} is negative integer\")\n",
        "elif n == 0:\n",
        "    print(f\"{n} is zero integer\")\n",
        "else:\n",
        "    print(f\" {n} is positive integer\")"
      ],
      "execution_count": null,
      "outputs": [
        {
          "output_type": "stream",
          "text": [
            "enter a number: 85\n",
            " 85 is positive integer\n"
          ],
          "name": "stdout"
        }
      ]
    },
    {
      "cell_type": "markdown",
      "metadata": {
        "id": "SNOUCbLRUZOC"
      },
      "source": [
        "7)  Write a program to convert the number of days to ages"
      ]
    },
    {
      "cell_type": "code",
      "metadata": {
        "colab": {
          "base_uri": "https://localhost:8080/"
        },
        "id": "-yDbDRW1U3iO",
        "outputId": "d9e912d3-cb4e-43f5-eb31-4e86849c81ed"
      },
      "source": [
        "n = int(input(\"enter a number to get how many years old you: \"))\n",
        "x = n/365\n",
        "print(f\"you are {x} years old \")"
      ],
      "execution_count": null,
      "outputs": [
        {
          "output_type": "stream",
          "text": [
            "enter a number to get how many years old you: 10000\n",
            "you are 27.397260273972602 years old \n"
          ],
          "name": "stdout"
        }
      ]
    },
    {
      "cell_type": "markdown",
      "metadata": {
        "id": "6OyXiV8WVuBC"
      },
      "source": [
        "8) Solve Trigonometry problem using math function write a program to solve using math function"
      ]
    },
    {
      "cell_type": "code",
      "metadata": {
        "colab": {
          "base_uri": "https://localhost:8080/"
        },
        "id": "TGXUALF8Vwc_",
        "outputId": "58363d2c-bd23-46f1-9750-74e0cae63631"
      },
      "source": [
        "import math\n",
        "def trigonomentry(func,degree):\n",
        "    if func == 'sin':\n",
        "        return math.sin(degree)\n",
        "    elif func == 'cos':\n",
        "        return math.cos(degree)\n",
        "    elif func == 'tan':\n",
        "        return math.tan(degree)\n",
        "    elif func == 'cosec':\n",
        "        return math.cosec(degree)\n",
        "    elif func == 'sec':\n",
        "        return math.sec(degree)\n",
        "    else:\n",
        "        return math.cot(degree)\n",
        "trigonomentry('cos',0)\n",
        "    "
      ],
      "execution_count": null,
      "outputs": [
        {
          "output_type": "execute_result",
          "data": {
            "text/plain": [
              "1.0"
            ]
          },
          "metadata": {
            "tags": []
          },
          "execution_count": 129
        }
      ]
    },
    {
      "cell_type": "markdown",
      "metadata": {
        "id": "DBh9d0PcX3_z"
      },
      "source": [
        "9) Create a calculator only on a code level by using if condition (Basic arithmetic calculation)"
      ]
    },
    {
      "cell_type": "code",
      "metadata": {
        "colab": {
          "base_uri": "https://localhost:8080/"
        },
        "id": "s_fU4plnX5a8",
        "outputId": "1877bacf-de8e-4d19-c6bb-282bcf90e03e"
      },
      "source": [
        "print(\"--- 1 for addition ---\")\n",
        "print(\"--- 2 for subtraction ---\")\n",
        "print(\"--- 3 for multiplication ---\")\n",
        "print(\"--- 4 for divide ---\")\n",
        "\n",
        "\n",
        "choice = int(input(\"Enter your choice:\")) \n",
        "if (choice>=1 and choice<=4):\n",
        "\n",
        "  print(\"Enter two numbers: \")\n",
        "  num1 = int(input())\n",
        "  num2 = int(input())\n",
        "\n",
        "  if choice == 1: \n",
        "    add= num1 + num2\n",
        "    print(\"Addition: \", add)\n",
        "\n",
        "  elif choice == 2: \n",
        "    sub = num1 - num2\n",
        "    print(\"Subtraction: \", sub)\n",
        "\n",
        "  elif choice == 3: \n",
        "    mul = num1 * num2\n",
        "    print(\"Multiplication: \", mul)\n",
        "\n",
        "  elif choice == 4: \n",
        "    div = num1 / num2\n",
        "    print(\"Divide: \", div)\n",
        "\n",
        "  elif choice == 5:\n",
        "    exit()\n",
        "else:\n",
        "  print(\"Wrong input..!!\")"
      ],
      "execution_count": null,
      "outputs": [
        {
          "output_type": "stream",
          "text": [
            "--- 1 for addition ---\n",
            "--- 2 for subtraction ---\n",
            "--- 3 for multiplication ---\n",
            "--- 4 for divide ---\n",
            "Enter your choice:2\n",
            "Enter two numbers: \n",
            "9\n",
            "6\n",
            "Subtraction:  3\n"
          ],
          "name": "stdout"
        }
      ]
    }
  ]
}