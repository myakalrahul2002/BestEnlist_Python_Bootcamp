{
  "nbformat": 4,
  "nbformat_minor": 0,
  "metadata": {
    "colab": {
      "name": "Untitled18.ipynb",
      "provenance": [],
      "authorship_tag": "ABX9TyOXTVtwqJhGUZdfFTm597Ny",
      "include_colab_link": true
    },
    "kernelspec": {
      "name": "python3",
      "display_name": "Python 3"
    },
    "language_info": {
      "name": "python"
    }
  },
  "cells": [
    {
      "cell_type": "markdown",
      "metadata": {
        "id": "view-in-github",
        "colab_type": "text"
      },
      "source": [
        "<a href=\"https://colab.research.google.com/github/rahulmyakal/BestEnlist_python_bootcamp/blob/main/Day_9_task.ipynb\" target=\"_parent\"><img src=\"https://colab.research.google.com/assets/colab-badge.svg\" alt=\"Open In Colab\"/></a>"
      ]
    },
    {
      "cell_type": "code",
      "metadata": {
        "colab": {
          "base_uri": "https://localhost:8080/"
        },
        "id": "Qgzzn2LdjFb0",
        "outputId": "418d60c5-c876-4822-9acb-ea868d823c3c"
      },
      "source": [
        "class account:\n",
        "    def __init__(self,name,address):\n",
        "        self.name = name\n",
        "        self.address = address\n",
        "    def printname(self):\n",
        "         print(self.name,self.address)\n",
        "class bank(account):\n",
        "    def __init__(self,name,address,acnumber):\n",
        "     super().__init__(name,address)\n",
        "     self.number = acnumber\n",
        "    def welcome(self):\n",
        "        print(\"welcome to bank\",self.name,\"this is \",self.address,\"brach\",\"and your account number is\",self.number)\n",
        "\n",
        "a = bank(\"Rahul\",\"hyderbad\",1234)\n",
        "a.welcome()"
      ],
      "execution_count": 5,
      "outputs": [
        {
          "output_type": "stream",
          "text": [
            "welcome to bank Rahul this is  hyderbad brach and your account number is 1234\n"
          ],
          "name": "stdout"
        }
      ]
    }
  ]
}