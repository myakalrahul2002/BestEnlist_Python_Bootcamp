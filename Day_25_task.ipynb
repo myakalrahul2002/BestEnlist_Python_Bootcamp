{
  "nbformat": 4,
  "nbformat_minor": 0,
  "metadata": {
    "colab": {
      "name": "Day_25_task.ipynb",
      "provenance": [],
      "collapsed_sections": [],
      "authorship_tag": "ABX9TyODh5eATKkhwKKkt73fjQdT",
      "include_colab_link": true
    },
    "kernelspec": {
      "name": "python3",
      "display_name": "Python 3"
    },
    "language_info": {
      "name": "python"
    }
  },
  "cells": [
    {
      "cell_type": "markdown",
      "metadata": {
        "id": "view-in-github",
        "colab_type": "text"
      },
      "source": [
        "<a href=\"https://colab.research.google.com/github/rahulmyakal/BestEnlist_python_bootcamp/blob/main/Day_25_task.ipynb\" target=\"_parent\"><img src=\"https://colab.research.google.com/assets/colab-badge.svg\" alt=\"Open In Colab\"/></a>"
      ]
    },
    {
      "cell_type": "markdown",
      "metadata": {
        "id": "oAtLZcOd3iOm"
      },
      "source": [
        "#1. Write a Python program to convert a string to datetime¶\n"
      ]
    },
    {
      "cell_type": "code",
      "metadata": {
        "id": "i3gfrUIh3C03"
      },
      "source": [
        "import datetime\n",
        "def convert(date_time):\n",
        "    format = '%b %d %Y %I:%M%p' # The format\n",
        "    datetime_str = datetime.datetime.strptime(date_time, format)\n",
        "    return datetime_str"
      ],
      "execution_count": 9,
      "outputs": []
    },
    {
      "cell_type": "code",
      "metadata": {
        "colab": {
          "base_uri": "https://localhost:8080/"
        },
        "id": "dVKstZYE3GPG",
        "outputId": "f69f03d6-1070-4569-d506-21bdd8f31b6d"
      },
      "source": [
        "\n",
        "date_time = 'Jan 24 2002 05:30AM'\n",
        "print(convert(date_time))"
      ],
      "execution_count": 8,
      "outputs": [
        {
          "output_type": "stream",
          "text": [
            "2002-01-24 05:30:00\n"
          ],
          "name": "stdout"
        }
      ]
    },
    {
      "cell_type": "markdown",
      "metadata": {
        "id": "JulJb-GZ3wFT"
      },
      "source": [
        "#2. Write a Python program to subtract five days (last working day) from current date¶\n"
      ]
    },
    {
      "cell_type": "code",
      "metadata": {
        "colab": {
          "base_uri": "https://localhost:8080/"
        },
        "id": "QWIE1Zal3y2H",
        "outputId": "be37ccca-4063-4a06-b9fe-fc90b55eae92"
      },
      "source": [
        "from datetime import date, timedelta\n",
        "abs= date.today() - timedelta(5)\n",
        "print('Current Date :',date.today())\n",
        "print('5 days before Date  is :',abs)"
      ],
      "execution_count": 12,
      "outputs": [
        {
          "output_type": "stream",
          "text": [
            "Current Date : 2021-07-09\n",
            "5 days before Date  is : 2021-07-04\n"
          ],
          "name": "stdout"
        }
      ]
    },
    {
      "cell_type": "markdown",
      "metadata": {
        "id": "wlsJt60a4Idn"
      },
      "source": [
        "#3. Write a Python program to convert the date to datetime using a function"
      ]
    },
    {
      "cell_type": "code",
      "metadata": {
        "colab": {
          "base_uri": "https://localhost:8080/"
        },
        "id": "JxlYr_vJ4MM9",
        "outputId": "96e441ad-63a8-40a5-e018-616fb60c0552"
      },
      "source": [
        "from datetime import datetime\n",
        "a = date.today()\n",
        "print(datetime.combine(a, datetime.min.time()))"
      ],
      "execution_count": 14,
      "outputs": [
        {
          "output_type": "stream",
          "text": [
            "2021-07-09 00:00:00\n"
          ],
          "name": "stdout"
        }
      ]
    },
    {
      "cell_type": "markdown",
      "metadata": {
        "id": "P1WzfNyl4maE"
      },
      "source": [
        "4. Write a Python program to print next 7 days (week) starting from today"
      ]
    },
    {
      "cell_type": "code",
      "metadata": {
        "colab": {
          "base_uri": "https://localhost:8080/"
        },
        "id": "BruZ0fgX4puJ",
        "outputId": "d1f1f9d4-72cd-4cdc-f491-30f332523428"
      },
      "source": [
        "import datetime\n",
        "data = datetime.datetime.today()\n",
        "for x in range(0, 7):\n",
        "    print(data + datetime.timedelta(days=x))"
      ],
      "execution_count": 17,
      "outputs": [
        {
          "output_type": "stream",
          "text": [
            "2021-07-09 15:29:36.457764\n",
            "2021-07-10 15:29:36.457764\n",
            "2021-07-11 15:29:36.457764\n",
            "2021-07-12 15:29:36.457764\n",
            "2021-07-13 15:29:36.457764\n",
            "2021-07-14 15:29:36.457764\n",
            "2021-07-15 15:29:36.457764\n"
          ],
          "name": "stdout"
        }
      ]
    }
  ]
}