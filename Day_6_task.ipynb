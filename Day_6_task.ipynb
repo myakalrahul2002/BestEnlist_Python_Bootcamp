{
  "nbformat": 4,
  "nbformat_minor": 0,
  "metadata": {
    "colab": {
      "name": "Day_6_task.ipynb",
      "provenance": [],
      "collapsed_sections": [],
      "authorship_tag": "ABX9TyMbRDnXiuhoyfFT4O1LgtHT",
      "include_colab_link": true
    },
    "kernelspec": {
      "name": "python3",
      "display_name": "Python 3"
    },
    "language_info": {
      "name": "python"
    }
  },
  "cells": [
    {
      "cell_type": "markdown",
      "metadata": {
        "id": "view-in-github",
        "colab_type": "text"
      },
      "source": [
        "<a href=\"https://colab.research.google.com/github/rahulmyakal/BestEnlist_python_bootcamp/blob/main/Day_6_task.ipynb\" target=\"_parent\"><img src=\"https://colab.research.google.com/assets/colab-badge.svg\" alt=\"Open In Colab\"/></a>"
      ]
    },
    {
      "cell_type": "markdown",
      "metadata": {
        "id": "lbKjOYnQYCcz"
      },
      "source": [
        "1) Write a Python script to merge two Python dictionaries\n"
      ]
    },
    {
      "cell_type": "code",
      "metadata": {
        "colab": {
          "base_uri": "https://localhost:8080/"
        },
        "id": "cLB1yP0PXS8l",
        "outputId": "03419247-bc87-4c9c-9920-20c6abeb3f80"
      },
      "source": [
        "dict1 = {1:1, 2:4, 3:9, 4:16, 5:25}\n",
        "dict2 = {'name':'rahul','fathers_name':'chandan','last_name':'myakal'}\n",
        "dict3 = {**dict1, **dict2}\n",
        "print(\"merging two dictionaries:\",dict3)\n"
      ],
      "execution_count": 31,
      "outputs": [
        {
          "output_type": "stream",
          "text": [
            "merging two dictionaries: {1: 1, 2: 4, 3: 9, 4: 16, 5: 25, 'name': 'rahul', 'fathers_name': 'chandan', 'last_name': 'myakal'}\n"
          ],
          "name": "stdout"
        }
      ]
    },
    {
      "cell_type": "markdown",
      "metadata": {
        "id": "uYYArxrRcpOG"
      },
      "source": [
        "2) Write a Python program to remove a key from a dictionary\n"
      ]
    },
    {
      "cell_type": "code",
      "metadata": {
        "colab": {
          "base_uri": "https://localhost:8080/"
        },
        "id": "VK09Zj-ZczxM",
        "outputId": "62b4b4d0-3d6a-415d-9754-57026aeabd90"
      },
      "source": [
        "print(dict2)\n",
        "del dict2['name']\n",
        "print(\"after removing rahul key \",dict2)"
      ],
      "execution_count": 32,
      "outputs": [
        {
          "output_type": "stream",
          "text": [
            "{'name': 'rahul', 'fathers_name': 'chandan', 'last_name': 'myakal'}\n",
            "after removing rahul key  {'fathers_name': 'chandan', 'last_name': 'myakal'}\n"
          ],
          "name": "stdout"
        }
      ]
    },
    {
      "cell_type": "markdown",
      "metadata": {
        "id": "NCEVsYAnfH7d"
      },
      "source": [
        "3) Write a Python program to map two lists into a dictionary\n"
      ]
    },
    {
      "cell_type": "code",
      "metadata": {
        "colab": {
          "base_uri": "https://localhost:8080/"
        },
        "id": "DR5oyJjEfIp1",
        "outputId": "4e233fa2-831b-457b-cd46-c0844d50b3f6"
      },
      "source": [
        "dkey = ['frontend','database','backend']\n",
        "dvalue = ['CSS','ORACLE','PYTHON']\n",
        "LISTDICT = dict(zip(dkey,dvalue))\n",
        "print(LISTDICT)"
      ],
      "execution_count": 34,
      "outputs": [
        {
          "output_type": "stream",
          "text": [
            "{'frontend': 'CSS', 'database': 'ORACLE', 'backend': 'PYTHON'}\n"
          ],
          "name": "stdout"
        }
      ]
    },
    {
      "cell_type": "markdown",
      "metadata": {
        "id": "EOaUoNsmhdPy"
      },
      "source": [
        "4)Write a Python program to find the length of a set\n"
      ]
    },
    {
      "cell_type": "code",
      "metadata": {
        "colab": {
          "base_uri": "https://localhost:8080/"
        },
        "id": "Ps0GFvcxhhaq",
        "outputId": "cdb24fc4-99e3-4e7c-9f7a-aa1e3dec46f4"
      },
      "source": [
        "set1 = [1,'friend',86,83,53,42]\n",
        "print(set1)\n",
        "print(len(set1))"
      ],
      "execution_count": 39,
      "outputs": [
        {
          "output_type": "stream",
          "text": [
            "[1, 'friend', 86, 83, 53, 42]\n",
            "6\n"
          ],
          "name": "stdout"
        }
      ]
    },
    {
      "cell_type": "markdown",
      "metadata": {
        "id": "pEq7bo09idK-"
      },
      "source": [
        "5) Write a Python program to remove the intersection of a 2nd set from the 1st set"
      ]
    },
    {
      "cell_type": "code",
      "metadata": {
        "colab": {
          "base_uri": "https://localhost:8080/"
        },
        "id": "2sW54G5Jid5F",
        "outputId": "15c6218c-71ee-45d2-d055-6e19a1b1a28f"
      },
      "source": [
        "set1 = {1,'friend',86,83,53,42}\n",
        "set2 = {819,981,98,7,45,79,89,54,83,86}\n",
        "z = set1.intersection(set2)\n",
        "print(z)"
      ],
      "execution_count": 42,
      "outputs": [
        {
          "output_type": "stream",
          "text": [
            "{83, 86}\n"
          ],
          "name": "stdout"
        }
      ]
    }
  ]
}