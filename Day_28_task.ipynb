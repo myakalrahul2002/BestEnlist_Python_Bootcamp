{
  "nbformat": 4,
  "nbformat_minor": 0,
  "metadata": {
    "colab": {
      "name": "Day_28_task.ipynb",
      "provenance": [],
      "collapsed_sections": [],
      "authorship_tag": "ABX9TyPnGP6tAIuLDnlPTd44C+wQ",
      "include_colab_link": true
    },
    "kernelspec": {
      "name": "python3",
      "display_name": "Python 3"
    },
    "language_info": {
      "name": "python"
    }
  },
  "cells": [
    {
      "cell_type": "markdown",
      "metadata": {
        "id": "view-in-github",
        "colab_type": "text"
      },
      "source": [
        "<a href=\"https://colab.research.google.com/github/rahulmyakal/BestEnlist_python_bootcamp/blob/main/Day_28_task.ipynb\" target=\"_parent\"><img src=\"https://colab.research.google.com/assets/colab-badge.svg\" alt=\"Open In Colab\"/></a>"
      ]
    },
    {
      "cell_type": "markdown",
      "metadata": {
        "id": "cYXL8KqgUl1P"
      },
      "source": [
        "# Thread Programming"
      ]
    },
    {
      "cell_type": "code",
      "metadata": {
        "colab": {
          "base_uri": "https://localhost:8080/"
        },
        "id": "CTkCW38UTa9O",
        "outputId": "03754157-de3e-4340-f308-3c4e2d3d2446"
      },
      "source": [
        "from threading import *\n",
        "from time import *\n",
        "from datetime import date,datetime\n",
        "\n",
        "class thread(Thread):\n",
        "    def run(self):\n",
        "        print(datetime.today())\n",
        "        sleep(0.2)\n",
        "\n",
        "class thread1(Thread):\n",
        "    def run(self):\n",
        "        print(datetime.today())\n",
        "        sleep(1)\n",
        "\n",
        "\n",
        "a = thread()\n",
        "a.start()\n",
        "b=thread1()\n",
        "b.start()\n",
        "print(\"\\nnumber of active threads : \",active_count())"
      ],
      "execution_count": 8,
      "outputs": [
        {
          "output_type": "stream",
          "text": [
            "2021-07-14 04:43:30.412829\n",
            "2021-07-14 04:43:30.414964\n",
            "number of active threads :  11\n",
            "\n"
          ],
          "name": "stdout"
        }
      ]
    }
  ]
}