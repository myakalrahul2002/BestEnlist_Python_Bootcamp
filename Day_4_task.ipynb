{
  "nbformat": 4,
  "nbformat_minor": 0,
  "metadata": {
    "colab": {
      "name": "Untitled13.ipynb",
      "provenance": [],
      "collapsed_sections": [],
      "authorship_tag": "ABX9TyPEnhj6OImo8k2dLU1DU/if",
      "include_colab_link": true
    },
    "kernelspec": {
      "name": "python3",
      "display_name": "Python 3"
    },
    "language_info": {
      "name": "python"
    }
  },
  "cells": [
    {
      "cell_type": "markdown",
      "metadata": {
        "id": "view-in-github",
        "colab_type": "text"
      },
      "source": [
        "<a href=\"https://colab.research.google.com/github/rahulmyakal/BestEnlist_python_bootcamp/blob/main/Day_4_task.ipynb\" target=\"_parent\"><img src=\"https://colab.research.google.com/assets/colab-badge.svg\" alt=\"Open In Colab\"/></a>"
      ]
    },
    {
      "cell_type": "markdown",
      "metadata": {
        "id": "JQKpWyBGuRTf"
      },
      "source": [
        "1)Create three variables (a,b,c) to same value of any integer &\n",
        "do the following\n",
        "\n",
        "a) Divide a by 10\n",
        "\n",
        "b) Multiply b by 50\n",
        "\n",
        "c) Add c value by 60\n"
      ]
    },
    {
      "cell_type": "code",
      "metadata": {
        "colab": {
          "base_uri": "https://localhost:8080/"
        },
        "id": "PLU4PZS8uGJi",
        "outputId": "9ede703a-ea8c-42e9-f3eb-d284c6c6986d"
      },
      "source": [
        "a,b,c = 58,97,22\n",
        "print(\"Divide a by 10: \",a/10)\n",
        "print(\"Multiply b by 50: \",b*50)\n",
        "print(\"Add c value by 60: \",c+60)"
      ],
      "execution_count": 2,
      "outputs": [
        {
          "output_type": "stream",
          "text": [
            "Divide a by 10:  5.8\n",
            "Multiply b by 50:  4850\n",
            "Add c value by 60:  82\n"
          ],
          "name": "stdout"
        }
      ]
    },
    {
      "cell_type": "markdown",
      "metadata": {
        "id": "9wrxCIOHueBT"
      },
      "source": [
        "2)Create a String variable of 5 characters and replace the 3rd\n",
        "character with G"
      ]
    },
    {
      "cell_type": "code",
      "metadata": {
        "colab": {
          "base_uri": "https://localhost:8080/"
        },
        "id": "cD-nWgh6uf8S",
        "outputId": "b71c8154-bc58-41e2-9efb-c23a19924cf5"
      },
      "source": [
        "str = 'rahul'\n",
        "print(\"before replacing: \",str)\n",
        "print(\"after replacing: \",str.replace('h','g'))"
      ],
      "execution_count": 6,
      "outputs": [
        {
          "output_type": "stream",
          "text": [
            "before replacing:  rahul\n",
            "after replacing:  ragul\n"
          ],
          "name": "stdout"
        }
      ]
    },
    {
      "cell_type": "markdown",
      "metadata": {
        "id": "YvzogxaZvXri"
      },
      "source": [
        "3)Create two values (a,b) of int,float data type & convert the\n",
        "vise versa"
      ]
    },
    {
      "cell_type": "code",
      "metadata": {
        "colab": {
          "base_uri": "https://localhost:8080/"
        },
        "id": "WAWgf7j5vY6n",
        "outputId": "3a9fe88c-a2a4-4a4c-9600-c57aad57f5c2"
      },
      "source": [
        "a = 52\n",
        "b =52.45\n",
        "print(\"int to float:\",float(a))\n",
        "print(\"float to int:\",int(b))"
      ],
      "execution_count": 7,
      "outputs": [
        {
          "output_type": "stream",
          "text": [
            "int to float: 52.0\n",
            "float to int: 52\n"
          ],
          "name": "stdout"
        }
      ]
    }
  ]
}