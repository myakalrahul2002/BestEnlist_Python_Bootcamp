{
 "metadata": {
  "language_info": {
   "codemirror_mode": {
    "name": "ipython",
    "version": 3
   },
   "file_extension": ".py",
   "mimetype": "text/x-python",
   "name": "python",
   "nbconvert_exporter": "python",
   "pygments_lexer": "ipython3",
   "version": "3.8.10"
  },
  "orig_nbformat": 4,
  "kernelspec": {
   "name": "python3",
   "display_name": "Python 3.8.10 64-bit"
  },
  "interpreter": {
   "hash": "1baa965d5efe3ac65b79dfc60c0d706280b1da80fedb7760faf2759126c4f253"
  }
 },
 "nbformat": 4,
 "nbformat_minor": 2,
 "cells": [
  {
   "cell_type": "code",
   "execution_count": 13,
   "metadata": {},
   "outputs": [],
   "source": [
    "from tkinter import *\n",
    "import tkinter as ttk\n",
    "window = ttk.Tk()\n",
    "window.title(\"BestEnlist Day 3\") \n",
    "window.geometry('400x400')\n",
    "window.configure(background = \"green\");\n",
    "\n",
    "headtitle = Label(window ,text = \"Registration Form \",bg=\"black\" ,fg=\"red\", font=50).grid(row = 3,column = 2)\n",
    "\n",
    "FirstName = Label(window ,text = \"First Name\",bg=\"black\" ,fg=\"red\").grid(row = 4,column = 2)\n",
    "LastName = Label(window ,text = \"Last Name\" ,bg=\"black\" ,fg=\"red\").grid(row = 5,column = 2)\n",
    "Email = Label(window ,text = \"Email Id\" ,bg=\"black\" ,fg=\"red\").grid(row = 6,column = 2)\n",
    "Mobile = Label(window ,text = \"Contact Number\" ,bg=\"black\" ,fg=\"red\").grid(row = 7,column = 2)\n",
    "AlternateMobile = Label(window ,text = \"Alternate Contact Number\" ,bg=\"black\" ,fg=\"red\").grid(row = 8,column = 2)\n",
    "Address = Label(window ,text = \"Address\" ,bg=\"black\" ,fg=\"red\").grid(row = 9,column = 2)\n",
    "FathersName = Label(window ,text = \"Fathers name\" ,bg=\"black\" ,fg=\"red\").grid(row = 10,column = 2)\n",
    "githubProfile = Label(window ,text = \"GitHub Profile name\" ,bg=\"black\" ,fg=\"red\").grid(row=11,column = 2)\n",
    "LinkdInprofile = Label(window ,text = \"LinkdIn profile\",bg=\"black\" ,fg=\"red\").grid(row = 12,column = 2)\n",
    "\n",
    "Firstname1 = Entry(window).grid(row = 4,column = 3)\n",
    "Lastname1 = Entry(window).grid(row = 5,column = 3)\n",
    "Email1 = Entry(window).grid(row = 6,column = 3)\n",
    "Mobile1 = Entry(window).grid(row = 7,column = 3)\n",
    "AlternateMobile = Entry(window).grid(row = 8,column = 3)\n",
    "Address = Entry(window).grid(row = 9,column = 3)\n",
    "FathersName = Entry(window).grid(row = 10,column = 3)\n",
    "githubProfile = Entry(window).grid(row = 11,column = 3)\n",
    "LinkdInProfile = Entry(window).grid(row = 12,column = 3)\n",
    "\n",
    "def clicked():\n",
    "    lbl.configure(text=\"hello\")\n",
    "btn = Button(window, text=\"Click me\",bg=\"black\", fg=\"red\").grid(row=13,column=2)\n",
    "window.mainloop()\n",
    "\n",
    "\n",
    "\n"
   ]
  }
 ]
}