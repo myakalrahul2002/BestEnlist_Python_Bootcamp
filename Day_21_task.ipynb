{
 "cells": [
  {
   "cell_type": "markdown",
   "metadata": {},
   "source": [
    "1.\tWrite a program using zip() function and list() function, create a merged list of tuples from the two lists given."
   ]
  },
  {
   "cell_type": "code",
   "execution_count": 14,
   "metadata": {},
   "outputs": [
    {
     "name": "stdout",
     "output_type": "stream",
     "text": [
      "[0, 2, 4, 6, 8] \n",
      " [1, 3, 5, 7, 9]\n",
      "[(0, 1), (2, 3), (4, 5), (6, 7), (8, 9)]\n"
     ]
    }
   ],
   "source": [
    "list1 = [0,2,4,6,8]\r\n",
    "list2 = [1,3,5,7,9]\r\n",
    "print(list1,'\\n',list2)\r\n",
    "x = zip(list1,list2)\r\n",
    "print(list(x))"
   ]
  },
  {
   "cell_type": "markdown",
   "metadata": {},
   "source": [
    "2.\tFirst create a range from 1 to 8. Then using zip, merge the given list and the range together to create a new list of tuples.\r\n"
   ]
  },
  {
   "cell_type": "code",
   "execution_count": 13,
   "metadata": {},
   "outputs": [
    {
     "name": "stdout",
     "output_type": "stream",
     "text": [
      "[1, 2, 3, 4, 5, 6, 7]\n",
      "[8, 7, 6, 5, 4, 3, 2]\n",
      "[(1, 8), (2, 7), (3, 6), (4, 5), (5, 4), (6, 3), (7, 2)]\n"
     ]
    }
   ],
   "source": [
    "list1 = [*range(1,8)]\r\n",
    "print(list1)\r\n",
    "list2 = [*range(8,1,-1)]\r\n",
    "print(list2)\r\n",
    "list3 = zip(list1,list2)\r\n",
    "print(list(list3))"
   ]
  },
  {
   "cell_type": "markdown",
   "metadata": {},
   "source": [
    "3.\tUsing sorted() function, sort the list in ascending order."
   ]
  },
  {
   "cell_type": "code",
   "execution_count": 20,
   "metadata": {},
   "outputs": [
    {
     "name": "stdout",
     "output_type": "stream",
     "text": [
      "[5, 24, 41, 53, 68, 74, 77, 84, 84, 96, 125]\n"
     ]
    }
   ],
   "source": [
    "list1 = [5,84,84,96,41,77,125,74,68,53,24]\r\n",
    "print(sorted(list1))"
   ]
  },
  {
   "cell_type": "markdown",
   "metadata": {},
   "source": [
    "4.\tWrite a program using filter function, filter the even numbers so that only odd numbers are passed to the new list."
   ]
  },
  {
   "cell_type": "code",
   "execution_count": 30,
   "metadata": {},
   "outputs": [
    {
     "name": "stdout",
     "output_type": "stream",
     "text": [
      "Odd Numbers are:  [25, 47, 69, 71, 93]\n"
     ]
    }
   ],
   "source": [
    "num = [14,25,98,36,47,58,69,71,82,93]\r\n",
    "\r\n",
    "def filterOddNum(in_num):\r\n",
    "\r\n",
    "    if(in_num % 2) !=0:\r\n",
    "        return True\r\n",
    "    else:\r\n",
    "        return False\r\n",
    "\r\n",
    "out_filter = filter(filterOddNum, num)              \r\n",
    "print(\"Odd Numbers are: \", list(out_filter))"
   ]
  },
  {
   "cell_type": "code",
   "execution_count": 31,
   "metadata": {},
   "outputs": [
    {
     "name": "stdout",
     "output_type": "stream",
     "text": [
      "even numbers are:  [14, 36, 58, 82, 98]\n"
     ]
    }
   ],
   "source": [
    "num = [14,25,98,36,47,58,69,71,82,93]\r\n",
    "\r\n",
    "def EvenNo(in_num):\r\n",
    "\r\n",
    "    if (in_num % 2) == 0:\r\n",
    "        return True\r\n",
    "    else:\r\n",
    "        return False\r\n",
    "\r\n",
    "to_filter = filter(EvenNo, num)\r\n",
    "print(\"even numbers are: \",sorted(list(to_filter)))"
   ]
  }
 ],
 "metadata": {
  "interpreter": {
   "hash": "220575cd1ee3db331d7b130dc2ce74e043e865a62dad7920ab26e4c9a562c751"
  },
  "kernelspec": {
   "display_name": "Python 3.8.8 64-bit ('base': conda)",
   "name": "python3"
  },
  "language_info": {
   "codemirror_mode": {
    "name": "ipython",
    "version": 3
   },
   "file_extension": ".py",
   "mimetype": "text/x-python",
   "name": "python",
   "nbconvert_exporter": "python",
   "pygments_lexer": "ipython3",
   "version": "3.8.8"
  },
  "orig_nbformat": 4
 },
 "nbformat": 4,
 "nbformat_minor": 2
}