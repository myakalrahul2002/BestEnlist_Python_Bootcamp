{
  "nbformat": 4,
  "nbformat_minor": 0,
  "metadata": {
    "colab": {
      "name": "Day_27_task.ipynb",
      "provenance": [],
      "collapsed_sections": [],
      "authorship_tag": "ABX9TyN6l0f4QIM+VCkNokkq3MrD",
      "include_colab_link": true
    },
    "kernelspec": {
      "name": "python3",
      "display_name": "Python 3"
    },
    "language_info": {
      "name": "python"
    }
  },
  "cells": [
    {
      "cell_type": "markdown",
      "metadata": {
        "id": "view-in-github",
        "colab_type": "text"
      },
      "source": [
        "<a href=\"https://colab.research.google.com/github/rahulmyakal/BestEnlist_python_bootcamp/blob/main/Day_27_task.ipynb\" target=\"_parent\"><img src=\"https://colab.research.google.com/assets/colab-badge.svg\" alt=\"Open In Colab\"/></a>"
      ]
    },
    {
      "cell_type": "code",
      "metadata": {
        "colab": {
          "base_uri": "https://localhost:8080/"
        },
        "id": "y7caJCzhWy75",
        "outputId": "cac6be17-4a1f-406a-9a04-c75bf920b117"
      },
      "source": [
        "import requests\n",
        "import bs4\n",
        "import pandas as pd\n",
        "\n",
        "url = 'https://www.worldometers.info/coronavirus/country/india/'\n",
        "result = requests.get(url)\n",
        "\n",
        "soup = bs4.BeautifulSoup(result.text,'html.parser')\n",
        "\n",
        "cases = soup.find_all('div' ,class_= 'maincounter-number')\n",
        "\n",
        "data = []\n",
        "\n",
        "for i in cases:\n",
        "\tspan = i.find('span')\n",
        "\tdata.append(span.string)\n",
        "\n",
        "print(data)\n",
        "\n",
        "df = pd.DataFrame({\"CoronaData\": data})\n",
        "\n",
        "df.index = ['TotalCases', ' Deaths', 'Recovered']\n",
        "\n",
        "df.to_excel('Corona_Data.xls')"
      ],
      "execution_count": 5,
      "outputs": [
        {
          "output_type": "stream",
          "text": [
            "['30,899,904 ', '409,267', '30,050,975']\n"
          ],
          "name": "stdout"
        }
      ]
    }
  ]
}