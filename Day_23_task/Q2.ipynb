{
 "cells": [
  {
   "cell_type": "code",
   "execution_count": 1,
   "metadata": {},
   "outputs": [
    {
     "name": "stdout",
     "output_type": "stream",
     "text": [
      "{'coord': {'lon': 7.5401, 'lat': 44.9331}, 'weather': [{'id': 802, 'main': 'Clouds', 'description': 'scattered clouds', 'icon': '03d'}], 'base': 'stations', 'main': {'temp': 299.43, 'feels_like': 299.43, 'temp_min': 297.59, 'temp_max': 301.91, 'pressure': 1015, 'humidity': 60}, 'visibility': 10000, 'wind': {'speed': 2.24, 'deg': 47, 'gust': 3.13}, 'clouds': {'all': 31}, 'dt': 1625740773, 'sys': {'type': 2, 'id': 2008171, 'country': 'IT', 'sunrise': 1625716303, 'sunset': 1625771863}, 'timezone': 7200, 'id': 3172215, 'name': 'None', 'cod': 200}\n",
      "None\n"
     ]
    }
   ],
   "source": [
    "import requests\r\n",
    "from tkinter import *\r\n",
    "root = Tk()\r\n",
    "root.title(\"Weather app\")\r\n",
    "\r\n",
    "def get_weather():\r\n",
    "    city = str(city_name)\r\n",
    "    api_address='http://api.openweathermap.org/data/2.5/weather?appid=83ffb3e70574529d8a2052d49fab8ecb&q='\r\n",
    "    url = api_address + city\r\n",
    "    json_data = requests.get(url).json()\r\n",
    "    print(json_data)\r\n",
    "    print(str(city_name))\r\n",
    "city_name = Label(root,text='enter city name').grid(row=1,column=1)\r\n",
    "city_name1 = Entry(root,text='city_name').grid(row=1,column=2)\r\n",
    "btn = Button(root, text=\"Fetch Location\",bg=\"black\", fg=\"red\",command=get_weather).grid(row=2,column=2)\r\n",
    "\r\n",
    "root.geometry(\"400x400\")\r\n",
    "root.mainloop()"
   ]
  }
 ],
 "metadata": {
  "interpreter": {
   "hash": "220575cd1ee3db331d7b130dc2ce74e043e865a62dad7920ab26e4c9a562c751"
  },
  "kernelspec": {
   "display_name": "Python 3.8.8 64-bit ('base': conda)",
   "name": "python3"
  },
  "language_info": {
   "codemirror_mode": {
    "name": "ipython",
    "version": 3
   },
   "file_extension": ".py",
   "mimetype": "text/x-python",
   "name": "python",
   "nbconvert_exporter": "python",
   "pygments_lexer": "ipython3",
   "version": "3.8.8"
  },
  "orig_nbformat": 4
 },
 "nbformat": 4,
 "nbformat_minor": 2
}