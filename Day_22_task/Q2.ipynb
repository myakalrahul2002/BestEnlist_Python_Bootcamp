{
 "cells": [
  {
   "cell_type": "markdown",
   "metadata": {},
   "source": [
    "2.\tMerge two pdf files using python script"
   ]
  },
  {
   "cell_type": "code",
   "execution_count": 10,
   "metadata": {},
   "outputs": [],
   "source": [
    "import PyPDF2\r\n",
    "\r\n",
    "temp = PyPDF2.PdfFileReader(open(r'C:\\Users\\rahulmyakal\\Downloads\\aicte.pdf','rb'))\r\n",
    "water = PyPDF2.PdfFileReader(open(r'C:\\Users\\rahulmyakal\\Downloads\\MoU AICTE- SMART COOKIE.pdf','rb'))\r\n",
    "\r\n",
    "output = PyPDF2.PdfFileWriter()\r\n",
    "\r\n",
    "for i in range(temp.getNumPages()):\r\n",
    "    page = temp.getPage(i)\r\n",
    "    page.mergePage(water.getPage(0))\r\n",
    "    output.addPage(page)\r\n",
    "\r\n",
    "    with open(r'C:\\Users\\rahulmyakal\\Downloads\\MoU AICTE- SMART COOKIEE.pdf','wb') as file:\r\n",
    "        output.write(file)\r\n"
   ]
  },
  {
   "cell_type": "code",
   "execution_count": 6,
   "metadata": {},
   "outputs": [
    {
     "name": "stdout",
     "output_type": "stream",
     "text": [
      "8\n",
      "{'/Type': '/Page', '/MediaBox': [0, 0, 595.2, 841.92], '/Resources': {'/XObject': {'/X0': IndirectObject(2, 0)}, '/Font': {'/F3': IndirectObject(3, 0)}}, '/Contents': IndirectObject(4, 0), '/Parent': IndirectObject(5, 0), '/Rotate': 360}\n"
     ]
    }
   ],
   "source": [
    "import PyPDF2\r\n",
    "\r\n",
    "with open(r'C:\\Users\\rahulmyakal\\Downloads\\Internship_Letter.pdf','rb') as file:\r\n",
    "    reader = PyPDF2.PdfFileReader(file)\r\n",
    "    print(reader.numPages)\r\n",
    "    print(reader.getPage(0))\r\n"
   ]
  }
 ],
 "metadata": {
  "interpreter": {
   "hash": "220575cd1ee3db331d7b130dc2ce74e043e865a62dad7920ab26e4c9a562c751"
  },
  "kernelspec": {
   "display_name": "Python 3.8.8 64-bit ('base': conda)",
   "name": "python3"
  },
  "language_info": {
   "codemirror_mode": {
    "name": "ipython",
    "version": 3
   },
   "file_extension": ".py",
   "mimetype": "text/x-python",
   "name": "python",
   "nbconvert_exporter": "python",
   "pygments_lexer": "ipython3",
   "version": "3.8.8"
  },
  "orig_nbformat": 4
 },
 "nbformat": 4,
 "nbformat_minor": 2
}