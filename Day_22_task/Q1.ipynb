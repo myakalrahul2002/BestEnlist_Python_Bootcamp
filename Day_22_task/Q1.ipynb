{
 "cells": [
  {
   "cell_type": "markdown",
   "metadata": {},
   "source": [
    "1.\tRead a jpeg image and print the image file"
   ]
  },
  {
   "cell_type": "code",
   "execution_count": 8,
   "metadata": {},
   "outputs": [
    {
     "name": "stdout",
     "output_type": "stream",
     "text": [
      "PNG\n"
     ]
    }
   ],
   "source": [
    "from PIL import Image , ImageFilter\r\n",
    "img = Image.open(r'C:\\Users\\rahulmyakal\\OneDrive\\Pictures\\ganesh idols\\image.jpg')\r\n",
    "filter_image = img.filter(ImageFilter.BLUR)\r\n",
    "filter_image.save(r\"C:\\Users\\rahulmyakal\\OneDrive\\Pictures\\ganesh idols\\image.jpg\",\"png\")\r\n",
    "print(img.format)\r\n"
   ]
  },
  {
   "cell_type": "code",
   "execution_count": 7,
   "metadata": {},
   "outputs": [
    {
     "name": "stdout",
     "output_type": "stream",
     "text": [
      "JPEG\n"
     ]
    }
   ],
   "source": [
    "img = Image.open(r'C:\\Users\\rahulmyakal\\OneDrive\\Pictures\\ganesh idols\\image.jpg')\r\n",
    "filter_img = img.convert('L')\r\n",
    "crooked  = filter_img.rotate(180)\r\n",
    "#resize = filter_img.resize((300,300))\r\n",
    "\r\n",
    "crooked.save(r'C:\\Users\\rahulmyakal\\OneDrive\\Pictures\\ganesh idols\\image.jpg',\"png\")\r\n",
    "print(img.format)\r\n"
   ]
  }
 ],
 "metadata": {
  "interpreter": {
   "hash": "220575cd1ee3db331d7b130dc2ce74e043e865a62dad7920ab26e4c9a562c751"
  },
  "kernelspec": {
   "display_name": "Python 3.8.8 64-bit ('base': conda)",
   "name": "python3"
  },
  "language_info": {
   "name": "python",
   "version": ""
  },
  "orig_nbformat": 4
 },
 "nbformat": 4,
 "nbformat_minor": 2
}