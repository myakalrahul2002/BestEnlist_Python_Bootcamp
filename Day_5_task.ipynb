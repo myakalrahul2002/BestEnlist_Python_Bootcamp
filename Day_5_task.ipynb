{
  "nbformat": 4,
  "nbformat_minor": 0,
  "metadata": {
    "colab": {
      "name": "Day_5_task.ipynb",
      "provenance": [],
      "authorship_tag": "ABX9TyNbgCEFWmm1SFXGsD/1Rpup",
      "include_colab_link": true
    },
    "kernelspec": {
      "name": "python3",
      "display_name": "Python 3"
    },
    "language_info": {
      "name": "python"
    }
  },
  "cells": [
    {
      "cell_type": "markdown",
      "metadata": {
        "id": "view-in-github",
        "colab_type": "text"
      },
      "source": [
        "<a href=\"https://colab.research.google.com/github/rahulmyakal/BestEnlist_python_bootcamp/blob/main/Day_5_task.ipynb\" target=\"_parent\"><img src=\"https://colab.research.google.com/assets/colab-badge.svg\" alt=\"Open In Colab\"/></a>"
      ]
    },
    {
      "cell_type": "markdown",
      "metadata": {
        "id": "XGmFKBZYGQrn"
      },
      "source": [
        "1)\tWrite a program to create a list of n integer values and do the following\n",
        "\n",
        "•\tAdd an item in to the list (using function)\n",
        "\n",
        "•\tDelete (using function)\n",
        "\n",
        "•\tStore the largest number from the list to a variable\n",
        "\n",
        "•\tStore the Smallest number from the list to a variable\n"
      ]
    },
    {
      "cell_type": "code",
      "metadata": {
        "colab": {
          "base_uri": "https://localhost:8080/"
        },
        "id": "T4PyS_hEGP4a",
        "outputId": "9fd9ed8c-5783-4df6-946c-258fe7c6d040"
      },
      "source": [
        "# 1A) Add an item in to the list (using function)\n",
        "list1 = [5,85,22,66,88,8,1,5,4,9,98,12]\n",
        "print(list1)\n",
        "list1.insert(0,55)\n",
        "print(list1)\n",
        "\n",
        "\n",
        "# 1B)  Delete (using function)\n",
        "list1.remove(55) # using function remove()\n",
        "print(list1)\n",
        "\n",
        "list1.insert(0,55)\n",
        "print(list1)\n",
        "list1.pop(0) # using pop()\n",
        "print(list1)\n",
        "\n",
        "list1.insert(0,55)\n",
        "print(list1)\n",
        "del list1[0] # using delete ()\n",
        "print(list1)\n",
        "\n",
        "\n",
        "#1C) Store the largest number from the list to a variable\n",
        "largvar = max(list1)\n",
        "print(f\"largest number in list: {largvar}\")\n",
        "\n",
        "\n",
        "#1D) Store the smallest number from the list to a variable\n",
        "smallvar = min(list1)\n",
        "print(f\"Smallest number in list: {smallvar}\")"
      ],
      "execution_count": null,
      "outputs": [
        {
          "output_type": "stream",
          "text": [
            "[5, 85, 22, 66, 88, 8, 1, 5, 4, 9, 98, 12]\n",
            "[55, 5, 85, 22, 66, 88, 8, 1, 5, 4, 9, 98, 12]\n",
            "[5, 85, 22, 66, 88, 8, 1, 5, 4, 9, 98, 12]\n",
            "[55, 5, 85, 22, 66, 88, 8, 1, 5, 4, 9, 98, 12]\n",
            "[5, 85, 22, 66, 88, 8, 1, 5, 4, 9, 98, 12]\n",
            "[55, 5, 85, 22, 66, 88, 8, 1, 5, 4, 9, 98, 12]\n",
            "[5, 85, 22, 66, 88, 8, 1, 5, 4, 9, 98, 12]\n",
            "largest number in list: 98\n",
            "largest number in list: 1\n"
          ],
          "name": "stdout"
        }
      ]
    },
    {
      "cell_type": "markdown",
      "metadata": {
        "id": "n2NoHpxqKZm-"
      },
      "source": [
        "2) Create a tuple and print the reverse of the created tuple\n"
      ]
    },
    {
      "cell_type": "code",
      "metadata": {
        "colab": {
          "base_uri": "https://localhost:8080/"
        },
        "id": "YlEt8Ed9KZUj",
        "outputId": "a1079a6a-ea07-4da9-d348-2ad7399ee666"
      },
      "source": [
        "tup1 = ('B','E','S','T','E','N','L','I','S','T')\n",
        "print(tup1)\n",
        "x = reversed(tup1)\n",
        "print(tuple(x))"
      ],
      "execution_count": null,
      "outputs": [
        {
          "output_type": "stream",
          "text": [
            "('B', 'E', 'S', 'T', 'E', 'N', 'L', 'I', 'S', 'T')\n",
            "('T', 'S', 'I', 'L', 'N', 'E', 'T', 'S', 'E', 'B')\n"
          ],
          "name": "stdout"
        }
      ]
    },
    {
      "cell_type": "markdown",
      "metadata": {
        "id": "-RNDq-hHMFd3"
      },
      "source": [
        "     3) Create a tuple and convert tuple into list"
      ]
    },
    {
      "cell_type": "code",
      "metadata": {
        "colab": {
          "base_uri": "https://localhost:8080/"
        },
        "id": "qmtZRJohMLQb",
        "outputId": "6c2bcb8f-d3f3-48a3-a925-956ccc19d2e1"
      },
      "source": [
        "tup1 = ('B','E','S','T','E','N','L','I','S','T')\n",
        "print(tup1)\n",
        "print(list(tup1))"
      ],
      "execution_count": null,
      "outputs": [
        {
          "output_type": "stream",
          "text": [
            "('B', 'E', 'S', 'T', 'E', 'N', 'L', 'I', 'S', 'T')\n",
            "['B', 'E', 'S', 'T', 'E', 'N', 'L', 'I', 'S', 'T']\n"
          ],
          "name": "stdout"
        }
      ]
    }
  ]
}