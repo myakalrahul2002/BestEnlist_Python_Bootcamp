{
  "nbformat": 4,
  "nbformat_minor": 0,
  "metadata": {
    "colab": {
      "name": "Untitled15.ipynb",
      "provenance": [],
      "collapsed_sections": [],
      "authorship_tag": "ABX9TyPdj7tvrCQAHQT8T8JZ/YRE",
      "include_colab_link": true
    },
    "kernelspec": {
      "name": "python3",
      "display_name": "Python 3"
    },
    "language_info": {
      "name": "python"
    }
  },
  "cells": [
    {
      "cell_type": "markdown",
      "metadata": {
        "id": "view-in-github",
        "colab_type": "text"
      },
      "source": [
        "<a href=\"https://colab.research.google.com/github/rahulmyakal/BestEnlist_python_bootcamp/blob/main/Day_8_task.ipynb\" target=\"_parent\"><img src=\"https://colab.research.google.com/assets/colab-badge.svg\" alt=\"Open In Colab\"/></a>"
      ]
    },
    {
      "cell_type": "markdown",
      "metadata": {
        "id": "Gi0B7jTXNWVf"
      },
      "source": [
        "\n",
        "•Day 8–Exercises\n",
        "\n",
        "•Write a Python script to merge two Python dictionaries\n",
        "\n",
        "•Write a program to sort the value fromdescending to ascending in listand convert it in to a set.\n",
        "\n",
        "•Write a Python program to list number of items in a dictionary key and sort the list with the help of a function & without the function\n",
        "\n",
        ".•Write a Python program to get a string from a given string (user input) and change the first occurrence of the word toa user specified input.\n",
        "\n",
        "•Write a Python program to get a string from a given string where all occurrences of its first char have been changed to capital letter.\n",
        "\n",
        "•Write a Python program to find the repeated items of a list\n",
        "\n",
        "•Write a Python program to check the sum of three elementsand divided by a value which is given as an input by the user\n",
        "\n",
        "•Write a Python program to find the Mean,median,modeamong three given numbers\n",
        "\n",
        "•Write a Python program to swap cases of a given string\n",
        "\n",
        "•Write a program to convert an integer to binary & octa decimal\n"
      ]
    },
    {
      "cell_type": "markdown",
      "metadata": {
        "id": "N9CiZr_XNNZj"
      },
      "source": [
        "1) Write a Python script to merge two Python dictionaries"
      ]
    },
    {
      "cell_type": "code",
      "metadata": {
        "id": "FS0CL1wLNCZA"
      },
      "source": [
        "dict1 = {1:1, 2:4, 3:9, 4:16, 5:25}\n",
        "dict2 = {'name':'rahul','fathers_name':'chandan','last_name':'myakal'}\n",
        "dict3 = {**dict1, **dict2}\n",
        "print(\"merging two dictionaries:\",dict3)"
      ],
      "execution_count": null,
      "outputs": []
    },
    {
      "cell_type": "markdown",
      "metadata": {
        "id": "m3R8s_QHOVCA"
      },
      "source": [
        "2) Write a program to sort the value from descending to ascending in list and convert it in to a set.\n"
      ]
    },
    {
      "cell_type": "code",
      "metadata": {
        "colab": {
          "base_uri": "https://localhost:8080/"
        },
        "id": "mBBkNSesOeHA",
        "outputId": "0cb8e00e-2e18-4994-d843-2311e3fdc9c5"
      },
      "source": [
        "list1 = [15,14,1,87,98,12,47,95,25,36,63,41,58]\n",
        "list1.sort()\n",
        "print(\"ascending to descending:\",list1)\n",
        "list1.sort(reverse=True)\n",
        "print(\"descending to ascending:\",list1)\n",
        "\n"
      ],
      "execution_count": null,
      "outputs": [
        {
          "output_type": "stream",
          "text": [
            "ascending to descending: [1, 12, 14, 15, 25, 36, 41, 47, 58, 63, 87, 95, 98]\n",
            "descending to ascending: [98, 95, 87, 63, 58, 47, 41, 36, 25, 15, 14, 12, 1]\n"
          ],
          "name": "stdout"
        }
      ]
    },
    {
      "cell_type": "markdown",
      "metadata": {
        "id": "H8fj6IxBQCUH"
      },
      "source": [
        "3)Write a Python program to list number of items in a dictionary key and sort the list with the help of a function & without the function\n"
      ]
    },
    {
      "cell_type": "code",
      "metadata": {
        "colab": {
          "base_uri": "https://localhost:8080/"
        },
        "id": "6TkwMEe6QdNl",
        "outputId": "d3e1612e-825f-4315-c651-04373e23d38d"
      },
      "source": [
        "##without function\n",
        "dict = {5:25,2:4,3:9,4:16}\n",
        "print(dict)\n",
        "print(\"sorting keys\",sorted(dict.keys()))\n",
        "print(\"sorting values\",sorted(dict.values()))\n",
        "print(\"sorting key values pair\",sorted(dict.items())"
      ],
      "execution_count": null,
      "outputs": [
        {
          "output_type": "stream",
          "text": [
            "{5: 25, 2: 4, 3: 9, 4: 16}\n",
            "sorting keys [2, 3, 4, 5]\n",
            "sorting values [4, 9, 16, 25]\n",
            "sorting key values pair [(2, 4), (3, 9), (4, 16), (5, 25)]\n"
          ],
          "name": "stdout"
        }
      ]
    },
    {
      "cell_type": "code",
      "metadata": {
        "colab": {
          "base_uri": "https://localhost:8080/"
        },
        "id": "yxCRXFZ1VOXy",
        "outputId": "f33e008a-892b-44f9-cca6-4d64f2427db4"
      },
      "source": [
        "### with function\n",
        "def sorting():\n",
        "    dict = {5:25,2:4,3:9,4:16}\n",
        "    print(dict)\n",
        "    print(\"sorting keys\",sorted(dict.keys()))\n",
        "    print(\"sorting values\",sorted(dict.values()))\n",
        "    print(\"sorting key values pair\",sorted(dict.items()))\n",
        "sorting()"
      ],
      "execution_count": null,
      "outputs": [
        {
          "output_type": "stream",
          "text": [
            "{5: 25, 2: 4, 3: 9, 4: 16}\n",
            "sorting keys [2, 3, 4, 5]\n",
            "sorting values [4, 9, 16, 25]\n",
            "sorting key values pair [(2, 4), (3, 9), (4, 16), (5, 25)]\n"
          ],
          "name": "stdout"
        }
      ]
    },
    {
      "cell_type": "markdown",
      "metadata": {
        "id": "x9X2AIM6VytX"
      },
      "source": [
        "4) Write a Python program to get a string from a given string (user input) and change the first occurrence of the word to a user specified input."
      ]
    },
    {
      "cell_type": "code",
      "metadata": {
        "id": "rogzTZrXVwAJ",
        "colab": {
          "base_uri": "https://localhost:8080/"
        },
        "outputId": "61d1db3a-472d-446f-b732-86191cc23ca3"
      },
      "source": [
        "m=input(\"Enter string \")\n",
        "n=input(\"Enter substring \")\n",
        "o=input(\"Enter string to be replaced \")\n",
        "p=m.split()\n",
        "for i in range(len(p)):\n",
        "    if(p[i]==n):\n",
        "        p[i]=o\n",
        "        break\n",
        "str=\"\"\n",
        "for ele in p:\n",
        "    str+=ele\n",
        "    str+=\" \"\n",
        "print(\"After replacing : \",str)"
      ],
      "execution_count": 29,
      "outputs": [
        {
          "output_type": "stream",
          "text": [
            "Enter string hello best enlist\n",
            "Enter substring hello guys\n",
            "Enter string to be replaced hello\n",
            "After replacing :  hello best enlist \n"
          ],
          "name": "stdout"
        }
      ]
    },
    {
      "cell_type": "markdown",
      "metadata": {
        "id": "yCR2oGkn3qei"
      },
      "source": [
        "5) write a Python program to get a string from a given string where all occurrences of its first char have been changed to capital letter."
      ]
    },
    {
      "cell_type": "code",
      "metadata": {
        "colab": {
          "base_uri": "https://localhost:8080/"
        },
        "id": "n00Zi1Xb4ENQ",
        "outputId": "9ad85890-bebf-4e7f-9332-2b93ded7bd2f"
      },
      "source": [
        "userinput = input(\"enter the string: \")\n",
        "print(\"converting every first character into capital:\",userinput.title())"
      ],
      "execution_count": null,
      "outputs": [
        {
          "output_type": "stream",
          "text": [
            "enter the string: hello best enlist\n",
            "converting every first character into capital: Hello Best Enlist\n"
          ],
          "name": "stdout"
        }
      ]
    },
    {
      "cell_type": "markdown",
      "metadata": {
        "id": "-FOgmzpG5s2I"
      },
      "source": [
        "6) Write a Python program to find the repeated items of a list"
      ]
    },
    {
      "cell_type": "code",
      "metadata": {
        "colab": {
          "base_uri": "https://localhost:8080/"
        },
        "id": "yXAI-osr5tN9",
        "outputId": "7af440c3-aedf-4e85-b621-5f5fbdac9419"
      },
      "source": [
        "#!pip install iteration_utilities\n",
        "#!pip install duplicates\n",
        "from iteration_utilities import duplicates\n",
        "list1 = [4,3,5,8,9,6,32,4,6,67,4,32,4,56]\n",
        "list(duplicates(list1))"
      ],
      "execution_count": null,
      "outputs": [
        {
          "output_type": "execute_result",
          "data": {
            "text/plain": [
              "[4, 6, 4, 32, 4]"
            ]
          },
          "metadata": {
            "tags": []
          },
          "execution_count": 18
        }
      ]
    },
    {
      "cell_type": "markdown",
      "metadata": {
        "id": "21kU8ucN74iA"
      },
      "source": [
        "7) Write a Python program to check the sum of three elements and divided by a value which is given as an input by the user\n"
      ]
    },
    {
      "cell_type": "code",
      "metadata": {
        "colab": {
          "base_uri": "https://localhost:8080/"
        },
        "id": "GXti6UUe74yR",
        "outputId": "f38483e4-e0d7-40df-8cba-3a80a823fa15"
      },
      "source": [
        "import random\n",
        "userinput = int(input(\"enter a number: \"))\n",
        "a,b,c = 48,54,87\n",
        "print(\"a+b+c:\",a+b+c)\n",
        "print(\"a+b+c/userinput\",a+b+c/userinput)"
      ],
      "execution_count": null,
      "outputs": [
        {
          "output_type": "stream",
          "text": [
            "enter a number: 45\n"
          ],
          "name": "stdout"
        }
      ]
    },
    {
      "cell_type": "markdown",
      "metadata": {
        "id": "K38ZWUBN-r02"
      },
      "source": [
        "8)Write a Python program to find the Mean,median,modeamong three given numbers"
      ]
    },
    {
      "cell_type": "code",
      "metadata": {
        "colab": {
          "base_uri": "https://localhost:8080/"
        },
        "id": "yGFNEKGz_Z59",
        "outputId": "e15798b8-faca-4459-d59f-a47d900839e0"
      },
      "source": [
        "# mean\n",
        "a=[84,25,49]\n",
        "print(a)\n",
        "print(\"mean:\",sum(a)/len(a))"
      ],
      "execution_count": 8,
      "outputs": [
        {
          "output_type": "stream",
          "text": [
            "[84, 25, 49]\n",
            "mean: 52.666666666666664\n"
          ],
          "name": "stdout"
        }
      ]
    },
    {
      "cell_type": "code",
      "metadata": {
        "colab": {
          "base_uri": "https://localhost:8080/"
        },
        "id": "bXaTQ4_IA_WH",
        "outputId": "2b642685-3969-41d9-d06a-763e18169eed"
      },
      "source": [
        "#median\n",
        "\n",
        "num1= [84,894,4,47,78,47,8]\n",
        "num1.sort()\n",
        "if len(num1) % 2 == 0:\n",
        "   fmedian = num1[len(num1) // 2]\n",
        "   smedian = num1[len(num1) // 2 - 1]\n",
        "   median = (fmedian + smedian) / 2\n",
        "else:\n",
        "   median = num1[len(num1) // 2]\n",
        "print(num1)\n",
        "print(\"Median of above list is: \" , median)"
      ],
      "execution_count": 13,
      "outputs": [
        {
          "output_type": "stream",
          "text": [
            "[4, 8, 47, 47, 78, 84, 894]\n",
            "Median of above list is:  47\n"
          ],
          "name": "stdout"
        }
      ]
    },
    {
      "cell_type": "code",
      "metadata": {
        "colab": {
          "base_uri": "https://localhost:8080/"
        },
        "id": "jS2Z_V0n-sBF",
        "outputId": "9360021b-2109-484b-cf7c-0bc497f598de"
      },
      "source": [
        "#mode\n",
        "from collections import Counter\n",
        "num = [85,95,47,85,95,74,2,56,24,15,2]\n",
        "n = len(num)\n",
        "  \n",
        "data = Counter(num)\n",
        "gmode = dict(data)\n",
        "mode = [k for k, v in gmode.items() if v == max(list(data.values()))]\n",
        "  \n",
        "if len(mode) == n:\n",
        "    gmode = \"No mode found\"\n",
        "else:\n",
        "    gmode = \"Mode is are: \" + ', '.join(map(str, mode))\n",
        "      \n",
        "print(gmode)"
      ],
      "execution_count": 16,
      "outputs": [
        {
          "output_type": "stream",
          "text": [
            "Mode is are: 85, 95, 2\n"
          ],
          "name": "stdout"
        }
      ]
    },
    {
      "cell_type": "markdown",
      "metadata": {
        "id": "vUxVoNmYCsA4"
      },
      "source": [
        "9) Write a Python program to swap cases of a given string"
      ]
    },
    {
      "cell_type": "code",
      "metadata": {
        "colab": {
          "base_uri": "https://localhost:8080/"
        },
        "id": "vgePT9qdCt3w",
        "outputId": "bcbc1275-9e1c-4d24-c40f-1ed6a30bbe94"
      },
      "source": [
        "userinput = input(\"enter whatever you want:\")\n",
        "print(userinput.swapcase())"
      ],
      "execution_count": 18,
      "outputs": [
        {
          "output_type": "stream",
          "text": [
            "enter whatever you want:HellO BESTenlist\n",
            "hELLo bestENLIST\n"
          ],
          "name": "stdout"
        }
      ]
    },
    {
      "cell_type": "markdown",
      "metadata": {
        "id": "i7aY-EikDMfZ"
      },
      "source": [
        "10) Write a program to convert an integer to binary & octa decimal"
      ]
    },
    {
      "cell_type": "code",
      "metadata": {
        "colab": {
          "base_uri": "https://localhost:8080/"
        },
        "id": "ffVTCkTJDO-V",
        "outputId": "5da1edd4-03bc-41f4-bc59-cdf8b8bb64e3"
      },
      "source": [
        "userinput = int(input(\"enter a integer:\"))\n",
        "print(\"decimal form of an integer is: \",userinput)\n",
        "print(\"binary form of an integer is: \",bin(userinput))\n",
        "print(\"hexadecimal  form of an integer is: \",hex(userinput))\n",
        "print(\"octal form of an integer is: \",oct(userinput))\n"
      ],
      "execution_count": 20,
      "outputs": [
        {
          "output_type": "stream",
          "text": [
            "enter a integer:10\n",
            "decimal form of an integer is:  10\n",
            "binary form of an integer is:  0b1010\n",
            "hexadecimal  form of an integer is:  0xa\n",
            "octal form of an integer is:  0o12\n"
          ],
          "name": "stdout"
        }
      ]
    }
  ]
}