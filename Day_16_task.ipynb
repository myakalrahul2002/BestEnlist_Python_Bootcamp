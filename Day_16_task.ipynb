{
  "nbformat": 4,
  "nbformat_minor": 0,
  "metadata": {
    "colab": {
      "name": "Untitled20.ipynb",
      "provenance": [],
      "authorship_tag": "ABX9TyNeLUBmFrQHT8d2jD0qrKh1",
      "include_colab_link": true
    },
    "kernelspec": {
      "name": "python3",
      "display_name": "Python 3"
    },
    "language_info": {
      "name": "python"
    }
  },
  "cells": [
    {
      "cell_type": "markdown",
      "metadata": {
        "id": "view-in-github",
        "colab_type": "text"
      },
      "source": [
        "<a href=\"https://colab.research.google.com/github/rahulmyakal/BestEnlist_python_bootcamp/blob/main/Day_16_task.ipynb\" target=\"_parent\"><img src=\"https://colab.research.google.com/assets/colab-badge.svg\" alt=\"Open In Colab\"/></a>"
      ]
    },
    {
      "cell_type": "markdown",
      "metadata": {
        "id": "pk8QcR-A4UHj"
      },
      "source": [
        "•\tWrite a Python program to count the even numbers in a given list of integers \n"
      ]
    },
    {
      "cell_type": "code",
      "metadata": {
        "colab": {
          "base_uri": "https://localhost:8080/"
        },
        "id": "uE-Ol6L64SBz",
        "outputId": "f6fd62a1-f433-4b0f-a960-b84800d1366e"
      },
      "source": [
        "x = lambda m, y: m * y\n",
        "print(x(5,7))"
      ],
      "execution_count": 7,
      "outputs": [
        {
          "output_type": "stream",
          "text": [
            "35\n"
          ],
          "name": "stdout"
        }
      ]
    },
    {
      "cell_type": "markdown",
      "metadata": {
        "id": "4TXbHMyW6_Z2"
      },
      "source": [
        "Write a Python program to create Fibonacci series to n using Lambda"
      ]
    },
    {
      "cell_type": "code",
      "metadata": {
        "colab": {
          "base_uri": "https://localhost:8080/"
        },
        "id": "P0N_6GONGjZA",
        "outputId": "2e76445d-60c1-40d2-b8b8-7f712a5971ff"
      },
      "source": [
        "from functools import reduce\n",
        "n = int(input(\"enter a number : \"))\n",
        "fibs = reduce(lambda x, _: x + [x[-2] + x[-1]], [0] * (n-2), [0, 1])\n",
        "print(fibs)"
      ],
      "execution_count": 52,
      "outputs": [
        {
          "output_type": "stream",
          "text": [
            "enter a number : 12\n",
            "[0, 1, 1, 2, 3, 5, 8, 13, 21, 34, 55, 89]\n"
          ],
          "name": "stdout"
        }
      ]
    },
    {
      "cell_type": "markdown",
      "metadata": {
        "id": "-RoQT2Zc8BLx"
      },
      "source": [
        " Write a Python program that multiply each number of given list with a given number"
      ]
    },
    {
      "cell_type": "code",
      "metadata": {
        "colab": {
          "base_uri": "https://localhost:8080/"
        },
        "id": "LVJLE2DN8Bzm",
        "outputId": "93d6c569-8c6a-4d20-ada8-7e96386d5f85"
      },
      "source": [
        "nums = [5,6,7,9,8,2,3,4]\n",
        "print(nums)\n",
        "n = int(input(\"enter a number: \"))\n",
        "list(map(lambda x:x*n,nums))"
      ],
      "execution_count": 34,
      "outputs": [
        {
          "output_type": "stream",
          "text": [
            "[5, 6, 7, 9, 8, 2, 3, 4]\n",
            "enter a number: 2\n"
          ],
          "name": "stdout"
        },
        {
          "output_type": "execute_result",
          "data": {
            "text/plain": [
              "[10, 12, 14, 18, 16, 4, 6, 8]"
            ]
          },
          "metadata": {
            "tags": []
          },
          "execution_count": 34
        }
      ]
    },
    {
      "cell_type": "markdown",
      "metadata": {
        "id": "m2JBkQ1BGkSO"
      },
      "source": [
        "Write a Python program to count the even numbers in a given list of integers"
      ]
    },
    {
      "cell_type": "code",
      "metadata": {
        "id": "n0Ucs_ZVImNH",
        "outputId": "c1b1a87f-46e9-4bc7-c115-ba9b1b43c6d1",
        "colab": {
          "base_uri": "https://localhost:8080/"
        }
      },
      "source": [
        "lst = [2,6,7,9,4,8,14,45,64,87,98]\n",
        "z = tuple(filter(lambda x:(x%2 == 0),lst))\n",
        "print(\"the even are:\",z)\n",
        "print(\"total even numbers are\",len(z))"
      ],
      "execution_count": 58,
      "outputs": [
        {
          "output_type": "stream",
          "text": [
            "the even are: (2, 6, 4, 8, 14, 64, 98)\n",
            "total even numbers are 7\n"
          ],
          "name": "stdout"
        }
      ]
    }
  ]
}