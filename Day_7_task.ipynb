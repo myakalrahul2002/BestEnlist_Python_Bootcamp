{
  "nbformat": 4,
  "nbformat_minor": 0,
  "metadata": {
    "colab": {
      "name": "Day_7_task.ipynb",
      "provenance": [],
      "authorship_tag": "ABX9TyPZ9aF0lqfH0BoVveo0hVeY",
      "include_colab_link": true
    },
    "kernelspec": {
      "name": "python3",
      "display_name": "Python 3"
    },
    "language_info": {
      "name": "python"
    }
  },
  "cells": [
    {
      "cell_type": "markdown",
      "metadata": {
        "id": "view-in-github",
        "colab_type": "text"
      },
      "source": [
        "<a href=\"https://colab.research.google.com/github/rahulmyakal/BestEnlist_python_bootcamp/blob/main/Day_7_task.ipynb\" target=\"_parent\"><img src=\"https://colab.research.google.com/assets/colab-badge.svg\" alt=\"Open In Colab\"/></a>"
      ]
    },
    {
      "cell_type": "markdown",
      "metadata": {
        "id": "1TIS4y60fZmo"
      },
      "source": [
        "1.Create a function getting two integer inputs from user. & print the following:\n",
        "\n",
        "<> Addition of two numbers is +value\n",
        "\n",
        "<> Subtraction of two numbers is +value\n",
        "\n",
        "<> Division of two numbers is +value\n",
        "\n",
        "<> Multiplication of two numbers is +value\n",
        "\n",
        "<> Here the value represents math function associated\n"
      ]
    },
    {
      "cell_type": "code",
      "metadata": {
        "colab": {
          "base_uri": "https://localhost:8080/"
        },
        "id": "kxMD81RKgFI3",
        "outputId": "cd340421-99c4-4a48-8b81-af4c3a43924d"
      },
      "source": [
        "var1 = int(input(\"enter the two inputs: \"))\n",
        "var2 = int(input(\"enter the two inputs: \"))\n",
        "def calculation():\n",
        "    print(f\"Adition of two user inputs {var1+var2}\")\n",
        "    print(f\"Subtraction of two user inputs {var1-var2}\")\n",
        "    print(f\"Multiplication of two user inputs {var1*var2}\")\n",
        "    print(f\"Division of two user inputs {var1/var2}\")\n",
        "calculation()\n"
      ],
      "execution_count": 9,
      "outputs": [
        {
          "output_type": "stream",
          "text": [
            "enter the two inputs: 5\n",
            "enter the two inputs: 10\n",
            "Adition of two user inputs 15\n",
            "Subtraction of two user inputs -5\n",
            "Multiplication of two user inputs 50\n",
            "Division of two user inputs 0.5\n"
          ],
          "name": "stdout"
        }
      ]
    },
    {
      "cell_type": "markdown",
      "metadata": {
        "id": "SyN-DVdGmDa0"
      },
      "source": [
        "2. Create a function covid( ) & it should accept patient name, and body temperature, by default the body temperature should be 98 degree"
      ]
    },
    {
      "cell_type": "code",
      "metadata": {
        "colab": {
          "base_uri": "https://localhost:8080/"
        },
        "id": "mtv3IQqpmHve",
        "outputId": "1bbfd110-7b65-4f7c-f405-f2bfb1741e8d"
      },
      "source": [
        "p_name = input(\"enter patient name:\")\n",
        "def covid(temp=98):\n",
        "    print(f\"Hello {p_name}\")\n",
        "    print(\"welcome to the jupiter hospital\")\n",
        "    print(f\"your body temperature is {temp} degree and you are safe \")\n",
        "covid()"
      ],
      "execution_count": 18,
      "outputs": [
        {
          "output_type": "stream",
          "text": [
            "enter patient name:das\n",
            "Hello das\n",
            "welcome to the jupiter hospital\n",
            "your body temperature is 98 degree and you are safe \n"
          ],
          "name": "stdout"
        }
      ]
    }
  ]
}